{
 "cells": [
  {
   "cell_type": "code",
   "execution_count": 3,
   "id": "fcdbf373",
   "metadata": {},
   "outputs": [],
   "source": [
    "import numpy as np\n",
    "import pandas as pd"
   ]
  },
  {
   "cell_type": "code",
   "execution_count": 4,
   "id": "e045804c",
   "metadata": {},
   "outputs": [],
   "source": [
    "df_flights = pd.read_csv(\"filtered_flight_data.csv\")"
   ]
  },
  {
   "cell_type": "code",
   "execution_count": null,
   "id": "ff4539de",
   "metadata": {},
   "outputs": [],
   "source": [
    "df_flights.head(25)"
   ]
  },
  {
   "cell_type": "code",
   "execution_count": null,
   "id": "50fb6e67",
   "metadata": {},
   "outputs": [],
   "source": [
    "print(df_flights['DESTINATION_AIRPORT'].unique())\n"
   ]
  },
  {
   "cell_type": "code",
   "execution_count": null,
   "id": "f989e79c",
   "metadata": {},
   "outputs": [],
   "source": [
    "#Keep only rows where Destination is not purely numeric\n",
    "df = df_flights[~df_flights['DESTINATION_AIRPORT'].astype(str).str.isnumeric()]\n",
    "df"
   ]
  },
  {
   "cell_type": "code",
   "execution_count": null,
   "id": "e54b1133",
   "metadata": {},
   "outputs": [],
   "source": [
    "# Drop rows with missing tail numbers (for turnaround time analysis)\n",
    "df_cleaned = df[~df['TAIL_NUMBER'].isna()]\n",
    "\n",
    "# Fill missing values in delay cause columns with 0\n",
    "delay_cols = ['AIR_SYSTEM_DELAY', 'SECURITY_DELAY', 'AIRLINE_DELAY', \n",
    "              'LATE_AIRCRAFT_DELAY', 'WEATHER_DELAY']\n",
    "df_cleaned[delay_cols] = df_cleaned[delay_cols].fillna(0)\n"
   ]
  },
  {
   "cell_type": "code",
   "execution_count": 9,
   "id": "c99e1367",
   "metadata": {},
   "outputs": [],
   "source": [
    "df_cleaned.to_csv(\"data.csv\", index=False)"
   ]
  },
  {
   "cell_type": "code",
   "execution_count": null,
   "id": "c8bcb44c",
   "metadata": {},
   "outputs": [],
   "source": [
    "df_cleaned.isnull().sum()"
   ]
  },
  {
   "cell_type": "code",
   "execution_count": null,
   "id": "29e89a6c",
   "metadata": {},
   "outputs": [],
   "source": [
    "df_cleaned.dtypes"
   ]
  },
  {
   "cell_type": "code",
   "execution_count": 10,
   "id": "3df4a814",
   "metadata": {},
   "outputs": [],
   "source": [
    "df_cleaned = df_cleaned.copy()\n",
    "cols_to_fill = [\n",
    "    'DEPARTURE_TIME', 'DEPARTURE_DELAY', 'TAXI_OUT', 'WHEELS_OFF',\n",
    "    'ELAPSED_TIME', 'AIR_TIME', 'WHEELS_ON', 'TAXI_IN',\n",
    "    'ARRIVAL_TIME', 'ARRIVAL_DELAY'\n",
    "]\n",
    "df_cleaned[cols_to_fill] = df_cleaned[cols_to_fill].fillna(0)\n",
    "\n",
    "# Fill object columns with 'Unknown'\n",
    "object_cols_to_fill = ['CANCELLATION_REASON', 'CANCELLATION_DESCRIPTION']\n",
    "df_cleaned[object_cols_to_fill] = df_cleaned[object_cols_to_fill].fillna(np.nan)"
   ]
  },
  {
   "cell_type": "code",
   "execution_count": 11,
   "id": "cc33e31f",
   "metadata": {},
   "outputs": [
    {
     "data": {
      "text/plain": [
       "YEAR                            0\n",
       "MONTH                           0\n",
       "DAY                             0\n",
       "DAY_OF_WEEK                     0\n",
       "FLIGHT_NUMBER                   0\n",
       "TAIL_NUMBER                     0\n",
       "DESTINATION_AIRPORT             0\n",
       "SCHEDULED_DEPARTURE             0\n",
       "DEPARTURE_TIME                  0\n",
       "DEPARTURE_DELAY                 0\n",
       "TAXI_OUT                        0\n",
       "WHEELS_OFF                      0\n",
       "SCHEDULED_TIME                  0\n",
       "ELAPSED_TIME                    0\n",
       "AIR_TIME                        0\n",
       "DISTANCE                        0\n",
       "WHEELS_ON                       0\n",
       "TAXI_IN                         0\n",
       "SCHEDULED_ARRIVAL               0\n",
       "ARRIVAL_TIME                    0\n",
       "ARRIVAL_DELAY                   0\n",
       "DIVERTED                        0\n",
       "CANCELLED                       0\n",
       "CANCELLATION_REASON         90286\n",
       "AIR_SYSTEM_DELAY                0\n",
       "SECURITY_DELAY                  0\n",
       "AIRLINE_DELAY                   0\n",
       "LATE_AIRCRAFT_DELAY             0\n",
       "WEATHER_DELAY                   0\n",
       "AIRLINE_y                       0\n",
       "ORIGIN_AIRPORT_y                0\n",
       "ORIGIN_CITY                     0\n",
       "ORIGIN_STATE                    0\n",
       "ORIGIN_COUNTRY                  0\n",
       "DEST_IATA_CODE                  0\n",
       "DEST_AIRPORT                    0\n",
       "DEST_CITY                       0\n",
       "DEST_STATE                      0\n",
       "DEST_COUNTRY                    0\n",
       "CANCELLATION_DESCRIPTION    90286\n",
       "dtype: int64"
      ]
     },
     "execution_count": 11,
     "metadata": {},
     "output_type": "execute_result"
    }
   ],
   "source": [
    "df_cleaned.isnull().sum()"
   ]
  },
  {
   "cell_type": "code",
   "execution_count": 12,
   "id": "f900c453",
   "metadata": {},
   "outputs": [],
   "source": [
    "df_cleaned.to_csv(\"final_dataset.csv\", index=False)"
   ]
  },
  {
   "cell_type": "markdown",
   "id": "bc7e22c4",
   "metadata": {},
   "source": [
    "Identify delay patterns by day of week"
   ]
  },
  {
   "cell_type": "code",
   "execution_count": 13,
   "id": "2fe18136",
   "metadata": {},
   "outputs": [
    {
     "data": {
      "text/html": [
       "<div>\n",
       "<style scoped>\n",
       "    .dataframe tbody tr th:only-of-type {\n",
       "        vertical-align: middle;\n",
       "    }\n",
       "\n",
       "    .dataframe tbody tr th {\n",
       "        vertical-align: top;\n",
       "    }\n",
       "\n",
       "    .dataframe thead th {\n",
       "        text-align: right;\n",
       "    }\n",
       "</style>\n",
       "<table border=\"1\" class=\"dataframe\">\n",
       "  <thead>\n",
       "    <tr style=\"text-align: right;\">\n",
       "      <th></th>\n",
       "      <th>Day of Week</th>\n",
       "      <th>Average Arrival Delay (min)</th>\n",
       "    </tr>\n",
       "  </thead>\n",
       "  <tbody>\n",
       "    <tr>\n",
       "      <th>0</th>\n",
       "      <td>1</td>\n",
       "      <td>6.709370</td>\n",
       "    </tr>\n",
       "    <tr>\n",
       "      <th>1</th>\n",
       "      <td>2</td>\n",
       "      <td>4.858753</td>\n",
       "    </tr>\n",
       "    <tr>\n",
       "      <th>2</th>\n",
       "      <td>3</td>\n",
       "      <td>4.238298</td>\n",
       "    </tr>\n",
       "    <tr>\n",
       "      <th>3</th>\n",
       "      <td>4</td>\n",
       "      <td>5.776337</td>\n",
       "    </tr>\n",
       "    <tr>\n",
       "      <th>4</th>\n",
       "      <td>5</td>\n",
       "      <td>5.045984</td>\n",
       "    </tr>\n",
       "    <tr>\n",
       "      <th>5</th>\n",
       "      <td>6</td>\n",
       "      <td>2.237754</td>\n",
       "    </tr>\n",
       "    <tr>\n",
       "      <th>6</th>\n",
       "      <td>7</td>\n",
       "      <td>3.988979</td>\n",
       "    </tr>\n",
       "  </tbody>\n",
       "</table>\n",
       "</div>"
      ],
      "text/plain": [
       "   Day of Week  Average Arrival Delay (min)\n",
       "0            1                     6.709370\n",
       "1            2                     4.858753\n",
       "2            3                     4.238298\n",
       "3            4                     5.776337\n",
       "4            5                     5.045984\n",
       "5            6                     2.237754\n",
       "6            7                     3.988979"
      ]
     },
     "execution_count": 13,
     "metadata": {},
     "output_type": "execute_result"
    }
   ],
   "source": [
    "# Calculate average arrival delay by day of the week\n",
    "delay_by_day = df_cleaned.groupby(\"DAY_OF_WEEK\")[\"ARRIVAL_DELAY\"].mean().reset_index()\n",
    "\n",
    "delay_by_day.columns = [\"Day of Week\", \"Average Arrival Delay (min)\"]\n",
    "delay_by_day.sort_values(\"Day of Week\", inplace=True)\n",
    "delay_by_day\n"
   ]
  },
  {
   "cell_type": "markdown",
   "id": "5042f60a",
   "metadata": {},
   "source": [
    "Analyze the impact of weather on delays."
   ]
  },
  {
   "cell_type": "code",
   "execution_count": 14,
   "id": "6551c8e0",
   "metadata": {},
   "outputs": [
    {
     "data": {
      "text/plain": [
       "{'Total Flights': 91545,\n",
       " 'Flights with Weather Delay': 1074,\n",
       " 'Percentage with Weather Delay': 1.17,\n",
       " 'Average Weather Delay (all flights)': np.float64(0.54),\n",
       " 'Average Weather Delay (affected flights only)': np.float64(45.75),\n",
       " 'Average Arrival Delay (affected by weather)': np.float64(82.54)}"
      ]
     },
     "execution_count": 14,
     "metadata": {},
     "output_type": "execute_result"
    }
   ],
   "source": [
    "# Analyze the relationship between weather delays and overall arrival delays\n",
    "weather_impact = df_cleaned[[\"WEATHER_DELAY\", \"ARRIVAL_DELAY\"]]\n",
    "\n",
    "# Calculate how many flights had weather-related delays\n",
    "weather_delay_flights = weather_impact[weather_impact[\"WEATHER_DELAY\"] > 0]\n",
    "\n",
    "# Summary statistics\n",
    "weather_delay_summary = {\n",
    "    \"Total Flights\": len(df_cleaned),\n",
    "    \"Flights with Weather Delay\": len(weather_delay_flights),\n",
    "    \"Percentage with Weather Delay\": round(len(weather_delay_flights) / len(df_cleaned) * 100, 2),\n",
    "    \"Average Weather Delay (all flights)\": round(df_cleaned[\"WEATHER_DELAY\"].mean(), 2),\n",
    "    \"Average Weather Delay (affected flights only)\": round(weather_delay_flights[\"WEATHER_DELAY\"].mean(), 2),\n",
    "    \"Average Arrival Delay (affected by weather)\": round(weather_delay_flights[\"ARRIVAL_DELAY\"].mean(), 2),\n",
    "}\n",
    "\n",
    "weather_delay_summary\n"
   ]
  },
  {
   "cell_type": "markdown",
   "id": "b39b4d4c",
   "metadata": {},
   "source": [
    "Calculate overall on-time performance rate."
   ]
  },
  {
   "cell_type": "code",
   "execution_count": 15,
   "id": "b028752a",
   "metadata": {},
   "outputs": [
    {
     "data": {
      "text/plain": [
       "63.32"
      ]
     },
     "execution_count": 15,
     "metadata": {},
     "output_type": "execute_result"
    }
   ],
   "source": [
    "on_time_flights = df_cleaned[df_cleaned[\"ARRIVAL_DELAY\"] <= 0]\n",
    "on_time_rate = round(len(on_time_flights) / len(df_cleaned) * 100, 2)\n",
    "\n",
    "on_time_rate"
   ]
  },
  {
   "cell_type": "markdown",
   "id": "8828a105",
   "metadata": {},
   "source": [
    "Find delay trends by time of day (morning, afternoon, evening)."
   ]
  },
  {
   "cell_type": "code",
   "execution_count": 19,
   "id": "0ebad71a",
   "metadata": {},
   "outputs": [
    {
     "name": "stdout",
     "output_type": "stream",
     "text": [
      "  Time of Day  Average Arrival Delay (min)\n",
      "0   Afternoon                     6.696021\n",
      "1     Evening                     9.910425\n",
      "2     Morning                     0.159656\n",
      "3       Night                     7.065947\n"
     ]
    }
   ],
   "source": [
    "def categorize_time_of_day(hour):\n",
    "    if 5 <= hour < 12:\n",
    "        return \"Morning\"\n",
    "    elif 12 <= hour < 17:\n",
    "        return \"Afternoon\"\n",
    "    elif 17 <= hour < 21:\n",
    "        return \"Evening\"\n",
    "    else:\n",
    "        return \"Night\"\n",
    "\n",
    "# Ensure you're working with the right DataFrame\n",
    "df_cleaned.loc[:, \"SCHED_DEP_HOUR\"] = df_cleaned[\"SCHEDULED_DEPARTURE\"] // 100\n",
    "df_cleaned.loc[:, \"TIME_OF_DAY\"] = df_cleaned[\"SCHED_DEP_HOUR\"].apply(categorize_time_of_day)\n",
    "\n",
    "# Group and analyze\n",
    "delay_by_time = df_cleaned.groupby(\"TIME_OF_DAY\")[\"ARRIVAL_DELAY\"].mean().reset_index()\n",
    "delay_by_time.columns = [\"Time of Day\", \"Average Arrival Delay (min)\"]\n",
    "delay_by_time.sort_values(\"Time of Day\", inplace=True)\n",
    "\n",
    "print(delay_by_time)\n"
   ]
  },
  {
   "cell_type": "markdown",
   "id": "5551892b",
   "metadata": {},
   "source": [
    "Detect seasonal trends in delay rates (monthly/quarterly)."
   ]
  },
  {
   "cell_type": "code",
   "execution_count": 21,
   "id": "e4eb15e4",
   "metadata": {},
   "outputs": [],
   "source": [
    "df_cleaned[\"FLIGHT_DATE\"] = pd.to_datetime(df_cleaned[[\"YEAR\", \"MONTH\", \"DAY\"]])\n"
   ]
  },
  {
   "cell_type": "code",
   "execution_count": 24,
   "id": "70a07aec",
   "metadata": {},
   "outputs": [
    {
     "name": "stdout",
     "output_type": "stream",
     "text": [
      "Monthly Delay Trends:\n",
      "    Month  Avg Arrival Delay (min) Month_Name\n",
      "0       1                 5.164329    January\n",
      "1       2                 7.958012   February\n",
      "2       3                 4.707563      March\n",
      "3       4                 3.183250      April\n",
      "4       5                 4.035449        May\n",
      "5       6                 8.831544       June\n",
      "6       7                 7.140310       July\n",
      "7       8                 4.662294     August\n",
      "8       9                -0.137250  September\n",
      "9      11                 0.561303   November\n",
      "10     12                 6.233636   December\n",
      "\n",
      "Quarterly Delay Trends:\n",
      "  Quarter  Avg Arrival Delay (min)\n",
      "0  2015Q1                 5.861688\n",
      "1  2015Q2                 5.375112\n",
      "2  2015Q3                 4.015441\n",
      "3  2015Q4                 3.436254\n"
     ]
    }
   ],
   "source": [
    "# Monthly average arrival delay\n",
    "monthly_delay = df_cleaned.groupby(\"MONTH\")[\"ARRIVAL_DELAY\"].mean().reset_index()\n",
    "monthly_delay.columns = [\"Month\", \"Avg Arrival Delay (min)\"]\n",
    "monthly_delay[\"Month_Name\"] = monthly_delay[\"Month\"].apply(lambda x: pd.to_datetime(str(x), format=\"%m\").strftime(\"%B\"))\n",
    "monthly_delay = monthly_delay.sort_values(\"Month\")\n",
    "\n",
    "# Quarterly delay trend\n",
    "df_cleaned[\"QUARTER\"] = df_cleaned[\"FLIGHT_DATE\"].dt.to_period(\"Q\")\n",
    "quarterly_delay = df_cleaned.groupby(\"QUARTER\")[\"ARRIVAL_DELAY\"].mean().reset_index()\n",
    "quarterly_delay.columns = [\"Quarter\", \"Avg Arrival Delay (min)\"]\n",
    "\n",
    "print(\"Monthly Delay Trends:\")\n",
    "print(monthly_delay)\n",
    "\n",
    "print(\"\\nQuarterly Delay Trends:\")\n",
    "print(quarterly_delay)\n"
   ]
  },
  {
   "cell_type": "markdown",
   "id": "18b734f8",
   "metadata": {},
   "source": [
    "Analyze turnaround time between flights per aircraft (if tail numbers available)."
   ]
  },
  {
   "cell_type": "code",
   "execution_count": 27,
   "id": "f2297b6c",
   "metadata": {},
   "outputs": [
    {
     "name": "stdout",
     "output_type": "stream",
     "text": [
      "✅ Average Turnaround Time Between Flights: 427.53 minutes\n"
     ]
    }
   ],
   "source": [
    "df_turnaround = df_cleaned.dropna(subset=[\"TAIL_NUMBER\", \"ARRIVAL_TIME\", \"SCHEDULED_DEPARTURE\"])\n",
    "df_turnaround[\"FLIGHT_DATE\"] = pd.to_datetime(df_turnaround[[\"YEAR\", \"MONTH\", \"DAY\"]])\n",
    "\n",
    "# Step 2: Convert ARRIVAL_TIME and SCHEDULED_DEPARTURE to proper 4-digit strings\n",
    "df_turnaround[\"ARRIVAL_TIME\"] = df_turnaround[\"ARRIVAL_TIME\"].astype(int).astype(str).str.zfill(4)\n",
    "df_turnaround[\"SCHEDULED_DEPARTURE\"] = df_turnaround[\"SCHEDULED_DEPARTURE\"].astype(int).astype(str).str.zfill(4)\n",
    "\n",
    "# Step 3: Combine to full datetime\n",
    "df_turnaround[\"ARRIVAL_DATETIME\"] = pd.to_datetime(df_turnaround[\"FLIGHT_DATE\"].astype(str) + \" \" + df_turnaround[\"ARRIVAL_TIME\"], format=\"%Y-%m-%d %H%M\", errors=\"coerce\")\n",
    "df_turnaround[\"DEP_DATETIME\"] = pd.to_datetime(df_turnaround[\"FLIGHT_DATE\"].astype(str) + \" \" + df_turnaround[\"SCHEDULED_DEPARTURE\"], format=\"%Y-%m-%d %H%M\", errors=\"coerce\")\n",
    "\n",
    "# Step 4: Sort and calculate turnaround\n",
    "df_turnaround = df_turnaround.sort_values([\"TAIL_NUMBER\", \"FLIGHT_DATE\", \"DEP_DATETIME\"])\n",
    "df_turnaround[\"PREV_ARRIVAL\"] = df_turnaround.groupby(\"TAIL_NUMBER\")[\"ARRIVAL_DATETIME\"].shift(1)\n",
    "df_turnaround[\"TURNAROUND_MIN\"] = (df_turnaround[\"DEP_DATETIME\"] - df_turnaround[\"PREV_ARRIVAL\"]).dt.total_seconds() / 60\n",
    "\n",
    "# Step 5: Filter reasonable turnarounds\n",
    "df_turnaround_filtered = df_turnaround[(df_turnaround[\"TURNAROUND_MIN\"] > 0) & (df_turnaround[\"TURNAROUND_MIN\"] < 1000)]\n",
    "\n",
    "# Final average\n",
    "avg_turnaround = df_turnaround_filtered[\"TURNAROUND_MIN\"].mean()\n",
    "print(f\"✅ Average Turnaround Time Between Flights: {avg_turnaround:.2f} minutes\")\n",
    "\n"
   ]
  }
 ],
 "metadata": {
  "kernelspec": {
   "display_name": "Python 3",
   "language": "python",
   "name": "python3"
  },
  "language_info": {
   "codemirror_mode": {
    "name": "ipython",
    "version": 3
   },
   "file_extension": ".py",
   "mimetype": "text/x-python",
   "name": "python",
   "nbconvert_exporter": "python",
   "pygments_lexer": "ipython3",
   "version": "3.13.3"
  }
 },
 "nbformat": 4,
 "nbformat_minor": 5
}
